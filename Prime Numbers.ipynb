{
 "cells": [
  {
   "cell_type": "code",
   "execution_count": 2,
   "metadata": {},
   "outputs": [],
   "source": [
    "# import the numpy library\n",
    "import numpy as np "
   ]
  },
  {
   "cell_type": "code",
   "execution_count": 6,
   "metadata": {},
   "outputs": [],
   "source": [
    "# find prime values upto 1000\n",
    "\n",
    "values = []\n",
    "prime = []\n",
    "prime_values = np.array([2,3,5,7,11,13,17,19,23,29,31])\n",
    "\n",
    "def isprime(value):\n",
    "    if value in prime_values:\n",
    "        print(\"Your number is \" + str(value) + \", it is a prime number\")\n",
    "        values.append(value)\n",
    "        prime.append(value)\n",
    "    elif sum(value % (prime_values) == 0) >= 1:\n",
    "        print(\"Your number is \" + str(value) + \", it is not a prime number\")\n",
    "        values.append(value)\n",
    "    else :\n",
    "        print(\"Your number is \" + str(value) + \", it is a prime number\")\n",
    "        values.append(value)\n",
    "        prime.append(value)"
   ]
  },
  {
   "cell_type": "code",
   "execution_count": 7,
   "metadata": {},
   "outputs": [
    {
     "name": "stdout",
     "output_type": "stream",
     "text": [
      "Your number is 75, it is not a prime number\n"
     ]
    }
   ],
   "source": [
    "# Example\n",
    "isprime(75)"
   ]
  },
  {
   "cell_type": "code",
   "execution_count": 8,
   "metadata": {},
   "outputs": [
    {
     "name": "stdout",
     "output_type": "stream",
     "text": [
      "Your number is 41, it is a prime number\n"
     ]
    }
   ],
   "source": [
    "isprime(41)"
   ]
  },
  {
   "cell_type": "code",
   "execution_count": 9,
   "metadata": {},
   "outputs": [
    {
     "name": "stdout",
     "output_type": "stream",
     "text": [
      "Your number is 512, it is not a prime number\n",
      "Your number is 367, it is a prime number\n",
      "Your number is 384, it is not a prime number\n",
      "Your number is 324, it is not a prime number\n",
      "Your number is 990, it is not a prime number\n",
      "Your number is 100, it is not a prime number\n",
      "Your number is 744, it is not a prime number\n",
      "Your number is 19, it is a prime number\n",
      "Your number is 597, it is not a prime number\n",
      "Your number is 108, it is not a prime number\n",
      "Your number is 125, it is not a prime number\n",
      "Your number is 571, it is a prime number\n",
      "Your number is 216, it is not a prime number\n",
      "Your number is 739, it is a prime number\n",
      "Your number is 98, it is not a prime number\n",
      "Your number is 115, it is not a prime number\n",
      "Your number is 640, it is not a prime number\n",
      "Your number is 49, it is not a prime number\n",
      "Your number is 75, it is not a prime number\n",
      "Your number is 546, it is not a prime number\n",
      "Your number is 944, it is not a prime number\n",
      "Your number is 226, it is not a prime number\n",
      "Your number is 113, it is a prime number\n",
      "Your number is 411, it is not a prime number\n",
      "Your number is 341, it is not a prime number\n",
      "Your number is 848, it is not a prime number\n",
      "Your number is 255, it is not a prime number\n",
      "Your number is 422, it is not a prime number\n",
      "Your number is 610, it is not a prime number\n",
      "Your number is 210, it is not a prime number\n",
      "Your number is 70, it is not a prime number\n",
      "Your number is 819, it is not a prime number\n",
      "Your number is 825, it is not a prime number\n",
      "Your number is 453, it is not a prime number\n",
      "Your number is 4, it is not a prime number\n",
      "Your number is 342, it is not a prime number\n",
      "Your number is 41, it is a prime number\n",
      "Your number is 324, it is not a prime number\n",
      "Your number is 598, it is not a prime number\n",
      "Your number is 561, it is not a prime number\n",
      "Your number is 506, it is not a prime number\n",
      "Your number is 959, it is not a prime number\n",
      "Your number is 178, it is not a prime number\n",
      "Your number is 137, it is a prime number\n",
      "Your number is 875, it is not a prime number\n",
      "Your number is 101, it is a prime number\n",
      "Your number is 382, it is not a prime number\n",
      "Your number is 862, it is not a prime number\n",
      "Your number is 182, it is not a prime number\n",
      "Your number is 360, it is not a prime number\n",
      "Your number is 867, it is not a prime number\n",
      "Your number is 215, it is not a prime number\n",
      "Your number is 632, it is not a prime number\n",
      "Your number is 864, it is not a prime number\n",
      "Your number is 413, it is not a prime number\n",
      "Your number is 292, it is not a prime number\n",
      "Your number is 995, it is not a prime number\n",
      "Your number is 590, it is not a prime number\n",
      "Your number is 682, it is not a prime number\n",
      "Your number is 901, it is not a prime number\n",
      "Your number is 108, it is not a prime number\n",
      "Your number is 839, it is a prime number\n",
      "Your number is 578, it is not a prime number\n",
      "Your number is 845, it is not a prime number\n",
      "Your number is 420, it is not a prime number\n",
      "Your number is 828, it is not a prime number\n",
      "Your number is 396, it is not a prime number\n",
      "Your number is 792, it is not a prime number\n",
      "Your number is 719, it is a prime number\n",
      "Your number is 148, it is not a prime number\n",
      "Your number is 486, it is not a prime number\n",
      "Your number is 273, it is not a prime number\n",
      "Your number is 413, it is not a prime number\n",
      "Your number is 767, it is not a prime number\n",
      "Your number is 160, it is not a prime number\n",
      "Your number is 182, it is not a prime number\n",
      "Your number is 584, it is not a prime number\n",
      "Your number is 367, it is a prime number\n",
      "Your number is 373, it is a prime number\n",
      "Your number is 156, it is not a prime number\n",
      "Your number is 722, it is not a prime number\n",
      "Your number is 392, it is not a prime number\n",
      "Your number is 784, it is not a prime number\n",
      "Your number is 257, it is a prime number\n",
      "Your number is 246, it is not a prime number\n",
      "Your number is 361, it is not a prime number\n",
      "Your number is 973, it is not a prime number\n",
      "Your number is 952, it is not a prime number\n",
      "Your number is 969, it is not a prime number\n",
      "Your number is 131, it is a prime number\n",
      "Your number is 557, it is a prime number\n",
      "Your number is 188, it is not a prime number\n",
      "Your number is 359, it is a prime number\n",
      "Your number is 697, it is not a prime number\n",
      "Your number is 539, it is not a prime number\n",
      "Your number is 436, it is not a prime number\n",
      "Your number is 982, it is not a prime number\n",
      "Your number is 826, it is not a prime number\n",
      "Your number is 307, it is a prime number\n",
      "Your number is 782, it is not a prime number\n",
      "all random values is given by\n",
      "[ 75  41 512 367 384 324 990 100 744  19 597 108 125 571 216 739  98 115\n",
      " 640  49  75 546 944 226 113 411 341 848 255 422 610 210  70 819 825 453\n",
      "   4 342  41 324 598 561 506 959 178 137 875 101 382 862 182 360 867 215\n",
      " 632 864 413 292 995 590 682 901 108 839 578 845 420 828 396 792 719 148\n",
      " 486 273 413 767 160 182 584 367 373 156 722 392 784 257 246 361 973 952\n",
      " 969 131 557 188 359 697 539 436 982 826 307 782]\n",
      "random generation of values find 18 prime numbers, these are:\n",
      "[ 41 367  19 571 739 113  41 137 101 839 719 367 373 257 131 557 359 307]\n"
     ]
    }
   ],
   "source": [
    "# 100 random values to find prime numbers in it\n",
    "np.random.seed(123)\n",
    "\n",
    "# apply for loop\n",
    "for value in range(100):\n",
    "    value = np.random.randint(2,1001)\n",
    "    isprime(value)\n",
    "        \n",
    "# this print function shows all random values generate through for loop        \n",
    "print(\"all random values is given by\" , np.array(values), sep = \"\\n\")\n",
    "\n",
    "# this print function shows only prime values in 100 random numbers        \n",
    "print(\"random generation of values find \" + str(len(prime)) + \" prime numbers, these are:\", np.array(prime), sep = \"\\n\")"
   ]
  },
  {
   "cell_type": "code",
   "execution_count": null,
   "metadata": {},
   "outputs": [],
   "source": []
  }
 ],
 "metadata": {
  "kernelspec": {
   "display_name": "Python 3",
   "language": "python",
   "name": "python3"
  },
  "language_info": {
   "codemirror_mode": {
    "name": "ipython",
    "version": 3
   },
   "file_extension": ".py",
   "mimetype": "text/x-python",
   "name": "python",
   "nbconvert_exporter": "python",
   "pygments_lexer": "ipython3",
   "version": "3.7.1"
  }
 },
 "nbformat": 4,
 "nbformat_minor": 2
}
