{
 "cells": [
  {
   "cell_type": "code",
   "execution_count": 21,
   "metadata": {},
   "outputs": [],
   "source": [
    "# Temperature Conversion\n",
    "# Define a function for conversion\n",
    "\n",
    "def temp_conversion(temp,current_unit,to_be_convered):\n",
    "    # temp is the value of temperature and to_be_convered is conversion scale\n",
    "    \n",
    "    ### Conversion from Celcius to Fahrenhite ###\n",
    "    if to_be_convered == \"F\" and current_unit == \"C\":\n",
    "        new_temp = round(9 / 5 * temp + 32, 3)\n",
    "        print(\"The converted temperature in Fahrenhite scale is \" + str(new_temp) + \" degrees\")\n",
    "        \n",
    "    ### Conversion from Fahrenhite into Celcius ###    \n",
    "    elif to_be_convered == \"C\" and current_unit == \"F\":\n",
    "        new_temp = round(5 / 9 * (temp - 32), 3)\n",
    "        print(\"The converted temperature in Celcius scale is \" + str(new_temp) + \" degrees\")\n",
    "        \n",
    "    ### Conversion from Celcius to Kelvin ###    \n",
    "    elif to_be_convered == \"K\" and current_unit == \"C\":\n",
    "        new_temp = round(temp + 273.15, 3)\n",
    "        print(\"The converted temperature in Kelvin scale is \" + str(new_temp) + \" degrees\")\n",
    "        \n",
    "    ### Conversion from Kelvin to Celcius ###    \n",
    "    elif to_be_convered == \"C\" and current_unit == \"K\":\n",
    "        new_temp = round(temp - 273.15, 3)\n",
    "        print(\"The converted temperature in Celcius scale is \" + str(new_temp) + \" degrees\")\n",
    "        \n",
    "    ### Conversion from Kelvin to Fahrenhite ###    \n",
    "    elif to_be_convered == \"F\" and current_unit == \"K\":\n",
    "        new_temp = round(9 / 5 * (temp - 273.15) + 32, 3)\n",
    "        print(\"The converted temperature in Fahrenhite scale is \" + str(new_temp) + \" degrees\")\n",
    "        \n",
    "    ### Conversion from Fahrenhite to Kelvin ###    \n",
    "    else:\n",
    "        new_temp = round(5 / 9 * (temp - 32) + 273.15, 3)\n",
    "        print(\"The converted temperature in Kelvin scale is \" + str(new_temp) + \" degrees\")\n",
    "        "
   ]
  },
  {
   "cell_type": "code",
   "execution_count": 22,
   "metadata": {},
   "outputs": [
    {
     "name": "stdout",
     "output_type": "stream",
     "text": [
      "The converted temperature in Fahrenhite scale is 226.4 degrees\n"
     ]
    }
   ],
   "source": [
    "temp_conversion(108,\"C\",\"F\")"
   ]
  },
  {
   "cell_type": "code",
   "execution_count": 24,
   "metadata": {},
   "outputs": [
    {
     "name": "stdout",
     "output_type": "stream",
     "text": [
      "The converted temperature in Fahrenhite scale is -35.437 degrees\n"
     ]
    }
   ],
   "source": [
    "temp_conversion(235.685,\"K\",\"F\")"
   ]
  },
  {
   "cell_type": "code",
   "execution_count": null,
   "metadata": {},
   "outputs": [],
   "source": []
  }
 ],
 "metadata": {
  "kernelspec": {
   "display_name": "Python 3",
   "language": "python",
   "name": "python3"
  },
  "language_info": {
   "codemirror_mode": {
    "name": "ipython",
    "version": 3
   },
   "file_extension": ".py",
   "mimetype": "text/x-python",
   "name": "python",
   "nbconvert_exporter": "python",
   "pygments_lexer": "ipython3",
   "version": "3.7.1"
  }
 },
 "nbformat": 4,
 "nbformat_minor": 2
}
